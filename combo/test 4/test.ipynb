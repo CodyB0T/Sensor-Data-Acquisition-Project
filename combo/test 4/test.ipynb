{
 "cells": [
  {
   "cell_type": "code",
   "execution_count": 1,
   "metadata": {},
   "outputs": [
    {
     "ename": "ModuleNotFoundError",
     "evalue": "No module named 'rdataread'",
     "output_type": "error",
     "traceback": [
      "\u001b[1;31m---------------------------------------------------------------------------\u001b[0m",
      "\u001b[1;31mModuleNotFoundError\u001b[0m                       Traceback (most recent call last)",
      "Cell \u001b[1;32mIn[1], line 9\u001b[0m\n\u001b[0;32m      7\u001b[0m \u001b[38;5;28;01mif\u001b[39;00m \u001b[38;5;129;01mnot\u001b[39;00m libPath \u001b[38;5;129;01min\u001b[39;00m sys\u001b[38;5;241m.\u001b[39mpath:\n\u001b[0;32m      8\u001b[0m     sys\u001b[38;5;241m.\u001b[39mpath\u001b[38;5;241m.\u001b[39mappend(libPath)\n\u001b[1;32m----> 9\u001b[0m \u001b[38;5;28;01mimport\u001b[39;00m \u001b[38;5;21;01mrdataread\u001b[39;00m \u001b[38;5;28;01mas\u001b[39;00m \u001b[38;5;21;01mrd\u001b[39;00m\n\u001b[0;32m     11\u001b[0m \u001b[38;5;66;03m# locate the path and filename\u001b[39;00m\n\u001b[0;32m     12\u001b[0m path \u001b[38;5;241m=\u001b[39m \u001b[38;5;124m\"\u001b[39m\u001b[38;5;124m../data/\u001b[39m\u001b[38;5;124m\"\u001b[39m\n",
      "\u001b[1;31mModuleNotFoundError\u001b[0m: No module named 'rdataread'"
     ]
    }
   ],
   "source": [
    "import numpy as np\n",
    "import sys\n",
    "from scipy.signal import hilbert\n",
    "import matplotlib.pyplot as plt\n",
    "\n",
    "libPath = \"../../common/python\"\n",
    "if not libPath in sys.path:\n",
    "    sys.path.append(libPath)\n",
    "import rdataread as rd\n",
    "\n",
    "# locate the path and filename\n",
    "path = \"../data/\"\n",
    "filename = \"rf.raw\"\n",
    "\n",
    "# reading header information and RF data\n",
    "hdr, timestamps, data = rd.read_rf(path + filename)\n",
    "numframes = 1  # hdr['frames']\n",
    "\n",
    "# covnert RF to B\n",
    "bdata = np.zeros((hdr[\"lines\"], hdr[\"samples\"], hdr[\"frames\"]), dtype=\"float\")\n",
    "for frame in range(numframes):\n",
    "    bdata[:, :, frame] = 20 * np.log10(np.abs(1 + hilbert(data[:, :, frame])))\n",
    "\n",
    "# display images\n",
    "for frame in range(numframes):\n",
    "    plt.figure(figsize=(10, 5))\n",
    "    plt.subplot(1, 2, 1)\n",
    "    plt.imshow(\n",
    "        np.transpose(data[:, :, frame]),\n",
    "        cmap=plt.cm.plasma,\n",
    "        aspect=\"auto\",\n",
    "        vmin=-1000,\n",
    "        vmax=1000,\n",
    "    )\n",
    "    plt.title(\"RF frame \" + str(frame))\n",
    "    plt.subplot(1, 2, 2)\n",
    "    plt.imshow(\n",
    "        np.transpose(bdata[:, :, frame]),\n",
    "        cmap=plt.cm.gray,\n",
    "        aspect=\"auto\",\n",
    "        vmin=15,\n",
    "        vmax=70,\n",
    "    )\n",
    "    plt.title(\"sample B frame \" + str(frame))\n",
    "    plt.show()\n"
   ]
  }
 ],
 "metadata": {
  "kernelspec": {
   "display_name": "myenv",
   "language": "python",
   "name": "python3"
  },
  "language_info": {
   "codemirror_mode": {
    "name": "ipython",
    "version": 3
   },
   "file_extension": ".py",
   "mimetype": "text/x-python",
   "name": "python",
   "nbconvert_exporter": "python",
   "pygments_lexer": "ipython3",
   "version": "3.9.17"
  }
 },
 "nbformat": 4,
 "nbformat_minor": 2
}
