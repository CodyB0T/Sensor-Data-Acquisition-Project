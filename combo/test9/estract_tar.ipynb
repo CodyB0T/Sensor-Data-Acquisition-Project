{
 "cells": [
  {
   "cell_type": "code",
   "execution_count": 2,
   "metadata": {},
   "outputs": [
    {
     "name": "stdout",
     "output_type": "stream",
     "text": [
      ".\n",
      "./2024-03-28T16-13-42+0000_rf.raw.lzo\n",
      "./2024-03-28T16-13-42+0000_env.raw.lzo\n",
      "./2024-03-28T16-13-42+0000_rf.yml\n",
      "./2024-03-28T16-13-42+0000_env.tgc.yml\n",
      "./2024-03-28T16-13-42+0000_env.yml\n"
     ]
    }
   ],
   "source": [
    "import tarfile\n",
    "\n",
    "# Path to the tar archive\n",
    "tar_file_path = \"data/raw_data.tar\"\n",
    "extract_dir = \"data/raw_data\"\n",
    "\n",
    "# Open the tar archive for reading\n",
    "with tarfile.open(tar_file_path, \"r\") as tar:\n",
    "    # Extract all files to the current directory\n",
    "    tar.extractall(path=extract_dir)\n",
    "    file_names = tar.getnames()\n",
    "\n",
    "# Print the list of file names\n",
    "for file_name in file_names:\n",
    "    print(file_name)\n",
    "\n"
   ]
  },
  {
   "cell_type": "code",
   "execution_count": 3,
   "metadata": {},
   "outputs": [
    {
     "name": "stdout",
     "output_type": "stream",
     "text": [
      "['2024-03-28T16-13-42+0000_env.raw.lzo', '2024-03-28T16-13-42+0000_rf.raw.lzo']\n"
     ]
    }
   ],
   "source": [
    "import os\n",
    "\n",
    "# Path to the directory\n",
    "directory_path = \"data/raw_data\"\n",
    "\n",
    "# Get a list of all files in the directory\n",
    "files = os.listdir(directory_path)\n",
    "\n",
    "# Print the list of file names\n",
    "lzo_list = []\n",
    "for file in files:\n",
    "    if \"lzo\" in file:\n",
    "        lzo_list.append(file)\n",
    "        \n",
    "print(lzo_list)\n"
   ]
  },
  {
   "cell_type": "code",
   "execution_count": 4,
   "metadata": {},
   "outputs": [
    {
     "name": "stdout",
     "output_type": "stream",
     "text": [
      "/mnt/c/Users/codyh/Documents/GitHub/Sensor-Data-Acquisition-Project/combo/test6/data/raw_data\n"
     ]
    }
   ],
   "source": [
    "import os\n",
    "\n",
    "def get_path_for_WSL():\n",
    "    # Get the current working directory\n",
    "    current_directory = os.getcwd()\n",
    "    #remove all /\n",
    "    dir = current_directory.split(\"\\\\\")\n",
    "    #remove the c: drive part\n",
    "    dir.pop(0)\n",
    "    # remake the string with / inbetween\n",
    "    directory = \"\"\n",
    "    for x in dir:\n",
    "        directory += x + \"/\"\n",
    "    #add \n",
    "    return f\"/mnt/c/{directory}data/raw_data\"\n",
    "\n",
    "print(get_path_for_WSL())\n",
    "\n"
   ]
  },
  {
   "cell_type": "code",
   "execution_count": 6,
   "metadata": {},
   "outputs": [
    {
     "name": "stdout",
     "output_type": "stream",
     "text": [
      "wsl lzop -d /mnt/c/Users/codyh/Documents/GitHub/Sensor-Data-Acquisition-Project/combo/test6/data/raw_data/2024-03-28T16-13-42+0000_env.raw.lzo && wsl lzop -d /mnt/c/Users/codyh/Documents/GitHub/Sensor-Data-Acquisition-Project/combo/test6/data/raw_data/2024-03-28T16-13-42+0000_rf.raw.lzo\n",
      "\n"
     ]
    }
   ],
   "source": [
    "import subprocess\n",
    "\n",
    "# Commands to run in WSL\n",
    "commands = f\"wsl lzop -d {get_path_for_WSL()}/{lzo_list[0]} && wsl lzop -d {get_path_for_WSL()}/{lzo_list[1]}\"\n",
    "print(commands)\n",
    "# Run the commands in the WSL terminal\n",
    "result = subprocess.run(commands, capture_output=True, text=True, shell=True)\n",
    "\n",
    "# Print the output\n",
    "print(result.stdout)\n",
    "\n"
   ]
  }
 ],
 "metadata": {
  "kernelspec": {
   "display_name": "myenv",
   "language": "python",
   "name": "python3"
  },
  "language_info": {
   "codemirror_mode": {
    "name": "ipython",
    "version": 3
   },
   "file_extension": ".py",
   "mimetype": "text/x-python",
   "name": "python",
   "nbconvert_exporter": "python",
   "pygments_lexer": "ipython3",
   "version": "3.9.18"
  }
 },
 "nbformat": 4,
 "nbformat_minor": 2
}
