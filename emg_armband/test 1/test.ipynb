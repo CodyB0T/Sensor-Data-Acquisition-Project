{
 "cells": [
  {
   "cell_type": "code",
   "execution_count": 2,
   "metadata": {},
   "outputs": [
    {
     "name": "stderr",
     "output_type": "stream",
     "text": [
      "usage: ipykernel_launcher.py [-h] [--timeout TIMEOUT] [--ip-port IP_PORT]\n",
      "                             [--ip-protocol IP_PROTOCOL]\n",
      "                             [--ip-address IP_ADDRESS]\n",
      "                             [--serial-port SERIAL_PORT]\n",
      "                             [--mac-address MAC_ADDRESS]\n",
      "                             [--other-info OTHER_INFO]\n",
      "                             [--streamer-params STREAMER_PARAMS]\n",
      "                             [--serial-number SERIAL_NUMBER] --board-id\n",
      "                             BOARD_ID [--file FILE]\n",
      "ipykernel_launcher.py: error: ambiguous option: --ip=127.0.0.1 could match --ip-port, --ip-protocol, --ip-address\n"
     ]
    },
    {
     "ename": "SystemExit",
     "evalue": "2",
     "output_type": "error",
     "traceback": [
      "An exception has occurred, use %tb to see the full traceback.\n",
      "\u001b[1;31mSystemExit\u001b[0m\u001b[1;31m:\u001b[0m 2\n"
     ]
    },
    {
     "name": "stderr",
     "output_type": "stream",
     "text": [
      "c:\\Users\\codyh\\miniconda3\\envs\\myenv\\lib\\site-packages\\IPython\\core\\interactiveshell.py:3516: UserWarning: To exit: use 'exit', 'quit', or Ctrl-D.\n",
      "  warn(\"To exit: use 'exit', 'quit', or Ctrl-D.\", stacklevel=1)\n"
     ]
    }
   ],
   "source": [
    "import argparse\n",
    "import time\n",
    "import mindrove\n",
    "import numpy as np\n",
    "\n",
    "from mindrove.board_shim import BoardShim, MindRoveInputParams, LogLevels, BoardIds, MindRoveError\n",
    "from mindrove.data_filter import DataFilter, FilterTypes, AggOperations, WindowFunctions, DetrendOperations\n",
    "from mindrove.ml_model import MLModel, MindRoveMetrics, MindRoveClassifiers, MindRoveModelParams\n",
    "from mindrove.exit_codes import *\n",
    "\n",
    "\n",
    "def main():\n",
    "    BoardShim.enable_board_logger()\n",
    "    DataFilter.enable_data_logger()\n",
    "    MLModel.enable_ml_logger()\n",
    "\n",
    "    parser = argparse.ArgumentParser()\n",
    "    # use docs to check which parameters are required for specific board, e.g. for Cyton - set serial port\n",
    "    parser.add_argument('--timeout', type=int, help='timeout for device discovery or connection', required=False,\n",
    "                        default=0)\n",
    "    parser.add_argument('--ip-port', type=int, help='ip port', required=False, default=0)\n",
    "    parser.add_argument('--ip-protocol', type=int, help='ip protocol, check IpProtocolType enum', required=False,\n",
    "                        default=0)\n",
    "    parser.add_argument('--ip-address', type=str, help='ip address', required=False, default='')\n",
    "    parser.add_argument('--serial-port', type=str, help='serial port', required=False, default='')\n",
    "    parser.add_argument('--mac-address', type=str, help='mac address', required=False, default='')\n",
    "    parser.add_argument('--other-info', type=str, help='other info', required=False, default='')\n",
    "    parser.add_argument('--streamer-params', type=str, help='streamer params', required=False, default='')\n",
    "    parser.add_argument('--serial-number', type=str, help='serial number', required=False, default='')\n",
    "    parser.add_argument('--board-id', type=int, help='board id, check docs to get a list of supported boards',\n",
    "                        required=True)\n",
    "    parser.add_argument('--file', type=str, help='file', required=False, default='')\n",
    "    args = parser.parse_args()\n",
    "\n",
    "    params = MindRoveInputParams()\n",
    "    params.ip_port = args.ip_port\n",
    "    params.serial_port = args.serial_port\n",
    "    params.mac_address = args.mac_address\n",
    "    params.other_info = args.other_info\n",
    "    params.serial_number = args.serial_number\n",
    "    params.ip_address = args.ip_address\n",
    "    params.ip_protocol = args.ip_protocol\n",
    "    params.timeout = args.timeout\n",
    "    params.file = args.file\n",
    "\n",
    "    board = BoardShim(args.board_id, params)\n",
    "    master_board_id = board.get_board_id()\n",
    "    sampling_rate = BoardShim.get_sampling_rate(master_board_id)\n",
    "    board.prepare_session()\n",
    "    board.start_stream(45000, args.streamer_params)\n",
    "    BoardShim.log_message(LogLevels.LEVEL_INFO.value, 'start sleeping in the main thread')\n",
    "    time.sleep(5)  # recommended window size for eeg metric calculation is at least 4 seconds, bigger is better\n",
    "    data = board.get_board_data()\n",
    "    board.stop_stream()\n",
    "    board.release_session()\n",
    "\n",
    "    eeg_channels = BoardShim.get_eeg_channels(int(master_board_id))\n",
    "    bands = DataFilter.get_avg_band_powers(data, eeg_channels, sampling_rate, True)\n",
    "    feature_vector = np.concatenate((bands[0], bands[1]))\n",
    "    print(feature_vector)\n",
    "\n",
    "    # calc concentration\n",
    "    concentration_params = MindRoveModelParams(MindRoveMetrics.CONCENTRATION.value, MindRoveClassifiers.KNN.value)\n",
    "    concentration = MLModel(concentration_params)\n",
    "    concentration.prepare()\n",
    "    print('Concentration: %f' % concentration.predict(feature_vector))\n",
    "    concentration.release()\n",
    "\n",
    "    # calc relaxation\n",
    "    relaxation_params = MindRoveModelParams(MindRoveMetrics.RELAXATION.value, MindRoveClassifiers.REGRESSION.value)\n",
    "    relaxation = MLModel(relaxation_params)\n",
    "    relaxation.prepare()\n",
    "    print('Relaxation: %f' % relaxation.predict(feature_vector))\n",
    "    relaxation.release()\n",
    "\n",
    "\n",
    "if __name__ == \"__main__\":\n",
    "    main()"
   ]
  },
  {
   "cell_type": "code",
   "execution_count": 3,
   "metadata": {},
   "outputs": [],
   "source": [
    "import argparse\n",
    "import time\n",
    "import numpy as np\n",
    "import pandas as pd\n",
    "import matplotlib.pyplot as plt\n",
    "\n",
    "df = pd.read_csv(\"data.csv\")\n",
    "\n",
    "\n"
   ]
  }
 ],
 "metadata": {
  "kernelspec": {
   "display_name": "myenv",
   "language": "python",
   "name": "python3"
  },
  "language_info": {
   "codemirror_mode": {
    "name": "ipython",
    "version": 3
   },
   "file_extension": ".py",
   "mimetype": "text/x-python",
   "name": "python",
   "nbconvert_exporter": "python",
   "pygments_lexer": "ipython3",
   "version": "3.9.17"
  },
  "orig_nbformat": 4
 },
 "nbformat": 4,
 "nbformat_minor": 2
}
